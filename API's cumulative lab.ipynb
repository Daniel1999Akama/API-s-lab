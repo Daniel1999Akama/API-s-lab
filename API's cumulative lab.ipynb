{
 "cells": [
  {
   "cell_type": "markdown",
   "metadata": {},
   "source": [
    "# APIs - Cumulative Lab\n",
    "\n",
    "\n",
    "## Introduction \n",
    "\n",
    "We've seen how the Yelp API works and how to create basic visualizations using Folium. It's time to put those skills to work in order to create a working map! Taking things a step further, you'll also independently explore how to perform pagination in order to retrieve a full results set from the Yelp API.\n",
    "\n",
    "## Objectives\n",
    "\n",
    "You will be able to: \n",
    "\n",
    "* Practice using functions to organize your code\n",
    "* Use pagination to retrieve all results from an API query\n",
    "* Practice parsing data returned from an API query\n",
    "* Practice interpreting visualizations of a dataset\n",
    "* Create maps using Folium"
   ]
  },
  {
   "cell_type": "markdown",
   "metadata": {},
   "source": [
    "## Your Task: Query Yelp for All Businesses in a Category and Analyze the Results\n",
    "\n",
    "![restaurant counter with pizza](images/restaurant_counter.jpg)\n",
    "\n",
    "Photo by <a href=\"https://unsplash.com/@jordanmadrid?utm_source=unsplash&utm_medium=referral&utm_content=creditCopyText\">Jordan Madrid</a> on <a href=\"/s/photos/pizza-restaurant?utm_source=unsplash&utm_medium=referral&utm_content=creditCopyText\">Unsplash</a>"
   ]
  },
  {
   "cell_type": "markdown",
   "metadata": {},
   "source": [
    "### Overview\n",
    "\n",
    "You've now worked with some API calls, but we have yet to see how to retrieve a more complete dataset in a programmatic manner. In this lab, you will write a query of businesses on Yelp, then use *pagination* to retrieve all possible results for that query. Then you will create a summary of your findings, including a Folium map of the geographic locations of those businesses.\n",
    "\n",
    "### Technical Details\n",
    "\n",
    "Returning to the Yelp API, the [documentation](https://www.yelp.com/developers/documentation/v3/business_search) also provides us details regarding the **API limits**. These often include details about the number of requests a user is allowed to make within a specified time limit and the maximum number of results to be returned. In this case, we are told that any request has a **maximum of 50 results per request** and defaults to 20. Furthermore, any search will be limited to a **total of 1000 results**. To retrieve all 1000 of these results, we would have to page through the results piece by piece, retrieving 50 at a time. Processes such as these are often referred to as pagination.\n",
    "\n",
    "Also, be mindful of the **API** ***rate*** **limits**. You can only make **5000 requests per day** and are also can make requests too fast. Start prototyping small before running a loop that could be faulty. You can also use `time.sleep(n)` to add delays. For more details see https://www.yelp.com/developers/documentation/v3/rate_limiting.\n",
    "\n",
    "In this lab, you will define a search and then paginate over the results to retrieve all of the results. You'll then parse these responses as a list of dictionaries (for further exploration) and create a map using Folium to visualize the results geographically.\n",
    "\n",
    "### Requirements\n",
    "\n",
    "#### 1. Make the Initial Request\n",
    "\n",
    "Start by filling in your API key to make the initial request to the business search API. Investigate the structure of the response you get back and start figuring out how you will extract the relevant information.\n",
    "\n",
    "#### 2. Add Pagination\n",
    "\n",
    "Using loops and functions, collect the maximum number of results for your query from the API.\n",
    "\n",
    "#### 3. Perform Exploratory Analysis\n",
    "\n",
    "Interpret visualizations related to the price range, average rating, and number of reviews for all query results.\n",
    "\n",
    "#### 4. Create a Folium Map\n",
    "\n",
    "Using latitude and longitude data, plot the query results on an interactive map."
   ]
  },
  {
   "cell_type": "markdown",
   "metadata": {},
   "source": [
    "## 1. Make the Initial Request\n",
    "\n",
    "### Querying\n",
    "\n",
    "Start by making an initial request to the Yelp API. Your search must include at least 2 parameters: **term** and **location**. For example, you might search for pizza restaurants in NYC. The term and location is up to you but make the request below.\n",
    "\n",
    "Use the `requests` library ([documentation here](https://requests.readthedocs.io/en/master/user/quickstart/#make-a-request)).\n",
    "\n",
    "You'll also need an API key from Yelp. If you haven't done this already, go to the Yelp [Manage App page](https://www.yelp.com/developers/v3/manage_app) and create a new app (after making an account if you haven't already)."
   ]
  },
  {
   "cell_type": "code",
   "execution_count": 1,
   "metadata": {},
   "outputs": [],
   "source": [
    "import json\n",
    "\n",
    "def get_api(path):\n",
    "    \"\"\"function to get the API key\"\"\"\n",
    "    with open(path) as f:\n",
    "        data = json.load(f)\n",
    "    return data"
   ]
  },
  {
   "cell_type": "code",
   "execution_count": 4,
   "metadata": {},
   "outputs": [
    {
     "data": {
      "text/plain": [
       "<Response [200]>"
      ]
     },
     "execution_count": 4,
     "metadata": {},
     "output_type": "execute_result"
    }
   ],
   "source": [
    "# Replace None with appropriate code\n",
    "\n",
    "# Import the requests library\n",
    "import requests\n",
    "\n",
    "# Get this from the \"Manage App\" page. Make sure you set them\n",
    "# back to None before pushing this to GitHub, since otherwise\n",
    "# your credentials will be compromised\n",
    "#api_key = get_api(\"C:/Users/user/.secret/yelp_api.json\")\n",
    "\n",
    "api_key = None\n",
    "\n",
    "# These can be whatever you want! But the solution uses \"pizza\"\n",
    "# and \"New York NY\" if you want to compare your work directly\n",
    "term = 'pizza'\n",
    "location = 'New York NY'\n",
    "\n",
    "# Set up params for request\n",
    "url = \"https://api.yelp.com/v3/businesses/search\"\n",
    "headers = {\n",
    "    \"Authorization\": \"Bearer {}\".format(api_key)\n",
    "}\n",
    "url_params = {\n",
    "    \"term\": term.replace(\" \", \"+\"),\n",
    "    \"location\": location.replace(\" \", \"+\")\n",
    "}\n",
    "\n",
    "# Make the request using requests.get, passing in\n",
    "# url, headers=headers, and params=url_params\n",
    "response = requests.get(url, headers=headers, params=url_params)\n",
    "\n",
    "# Confirm we got a 200 response\n",
    "response"
   ]
  },
  {
   "cell_type": "code",
   "execution_count": 5,
   "metadata": {},
   "outputs": [
    {
     "data": {
      "text/plain": [
       "dict_keys(['businesses', 'total', 'region'])"
      ]
     },
     "execution_count": 5,
     "metadata": {},
     "output_type": "execute_result"
    }
   ],
   "source": [
    "# Run this cell without changes\n",
    "\n",
    "# Get the response body in JSON format\n",
    "response_json = response.json()\n",
    "# View the keys\n",
    "response_json.keys()"
   ]
  },
  {
   "cell_type": "markdown",
   "metadata": {},
   "source": [
    "### Extracting Data\n",
    "\n",
    "Now, retrieve the value associated with the `'businesses'` key, and inspect its contents."
   ]
  },
  {
   "cell_type": "code",
   "execution_count": 6,
   "metadata": {},
   "outputs": [
    {
     "data": {
      "text/plain": [
       "[{'id': 'zj8Lq1T8KIC5zwFief15jg',\n",
       "  'alias': 'prince-street-pizza-new-york-2',\n",
       "  'name': 'Prince Street Pizza',\n",
       "  'image_url': 'https://s3-media2.fl.yelpcdn.com/bphoto/I4gm7i1zoamgAk1hmOKbKw/o.jpg',\n",
       "  'is_closed': False,\n",
       "  'url': 'https://www.yelp.com/biz/prince-street-pizza-new-york-2?adjust_creative=vTjdhQGdNg_BGKufdFU_AQ&utm_campaign=yelp_api_v3&utm_medium=api_v3_business_search&utm_source=vTjdhQGdNg_BGKufdFU_AQ',\n",
       "  'review_count': 4793,\n",
       "  'categories': [{'alias': 'pizza', 'title': 'Pizza'},\n",
       "   {'alias': 'italian', 'title': 'Italian'}],\n",
       "  'rating': 4.5,\n",
       "  'coordinates': {'latitude': 40.72308755605564,\n",
       "   'longitude': -73.99453001177575},\n",
       "  'transactions': ['pickup', 'delivery'],\n",
       "  'price': '$',\n",
       "  'location': {'address1': '27 Prince St',\n",
       "   'address2': None,\n",
       "   'address3': '',\n",
       "   'city': 'New York',\n",
       "   'zip_code': '10012',\n",
       "   'country': 'US',\n",
       "   'state': 'NY',\n",
       "   'display_address': ['27 Prince St', 'New York, NY 10012']},\n",
       "  'phone': '+12129664100',\n",
       "  'display_phone': '(212) 966-4100',\n",
       "  'distance': 2209.3116178604555}]"
      ]
     },
     "execution_count": 6,
     "metadata": {},
     "output_type": "execute_result"
    }
   ],
   "source": [
    "# Replace None with appropriate code\n",
    "\n",
    "# Retrieve the value from response_json\n",
    "businesses = response_json['businesses']  # list of dictionaries.\n",
    "\n",
    "# View the first 2 records\n",
    "businesses[:1]"
   ]
  },
  {
   "cell_type": "markdown",
   "metadata": {},
   "source": [
    "### Preparing Data\n",
    "\n",
    "Write a function `prepare_data` that takes in a list of dictionaries like `businesses` and returns a copy that has been prepared for analysis:\n",
    "\n",
    "1. The `coordinates` key-value pair has been converted into two separate key-value pairs, `latitude` and `longitude`\n",
    "2. All other key-value pairs except for `name`, `review_count`, `rating`, and `price` have been dropped\n",
    "3. All dictionaries missing one of the relevant keys or containing null values have been dropped\n",
    "\n",
    "In other words, the final keys for each dictionary should be `name`, `review_count`, `rating`, `price`, `latitude`, and `longitude`.\n",
    "\n",
    "Complete the function in the cell below:"
   ]
  },
  {
   "cell_type": "code",
   "execution_count": 10,
   "metadata": {},
   "outputs": [
    {
     "data": {
      "text/plain": [
       "[{'name': 'Prince Street Pizza',\n",
       "  'review_count': 4793,\n",
       "  'rating': 4.5,\n",
       "  'price': '$',\n",
       "  'longitude': -73.99453001177575,\n",
       "  'latitude': 40.72308755605564},\n",
       " {'name': \"Juliana's\",\n",
       "  'review_count': 2608,\n",
       "  'rating': 4.5,\n",
       "  'price': '$$',\n",
       "  'longitude': -73.99343490196397,\n",
       "  'latitude': 40.70274718768062},\n",
       " {'name': 'Rubirosa',\n",
       "  'review_count': 2922,\n",
       "  'rating': 4.5,\n",
       "  'price': '$$',\n",
       "  'longitude': -73.996233,\n",
       "  'latitude': 40.722766}]"
      ]
     },
     "execution_count": 10,
     "metadata": {},
     "output_type": "execute_result"
    }
   ],
   "source": [
    "# Replace None with appropriate code\n",
    "\n",
    "def prepare_data(data_list):\n",
    "    \"\"\"\n",
    "    This function takes in a list of dictionaries and prepares it\n",
    "    for analysis\n",
    "    \"\"\"\n",
    "    \n",
    "    # Make a new list to hold results\n",
    "    results = []\n",
    "    \n",
    "    for business_data in data_list:\n",
    "    \n",
    "        # Make a new dictionary to hold prepared data for this business\n",
    "        prepared_data = {}\n",
    "        \n",
    "        # Extract name, review_count, rating, and price key-value pairs\n",
    "        # from business_data and add to prepared_data\n",
    "        # If a key is not present in business_data, add it to prepared_data\n",
    "        # with an associated value of None\n",
    "        for key in ('name', 'review_count', 'rating', 'price'):\n",
    "            prepared_data[key] = business_data.get(key, None)\n",
    "    \n",
    "        # Parse and add latitude and longitude columns\n",
    "        coordinates = business_data['coordinates']\n",
    "        prepared_data['longitude'] = coordinates['longitude']\n",
    "        prepared_data['latitude'] = coordinates['latitude']\n",
    "        \n",
    "        # Add to list if all values are present\n",
    "        if all(prepared_data.values()):\n",
    "            results.append(prepared_data)\n",
    "    \n",
    "    return results\n",
    "    \n",
    "# Test out function\n",
    "prepared_businesses = prepare_data(businesses)\n",
    "prepared_businesses[:3]"
   ]
  },
  {
   "cell_type": "markdown",
   "metadata": {},
   "source": [
    "Check that your function created the correct keys:"
   ]
  },
  {
   "cell_type": "code",
   "execution_count": 11,
   "metadata": {},
   "outputs": [],
   "source": [
    "# Run this cell without changes\n",
    "\n",
    "assert sorted(list(prepared_businesses[0].keys())) == ['latitude', 'longitude', 'name', 'price', 'rating', 'review_count']"
   ]
  },
  {
   "cell_type": "markdown",
   "metadata": {},
   "source": [
    "The following code will differ depending on your query, but we expect there to be 20 businesses in the original list, and potentially fewer in the prepared list (if any of them were missing data):"
   ]
  },
  {
   "cell_type": "code",
   "execution_count": 12,
   "metadata": {},
   "outputs": [
    {
     "name": "stdout",
     "output_type": "stream",
     "text": [
      "Original: 20\n",
      "Prepared: 20\n"
     ]
    }
   ],
   "source": [
    "# Run this cell without changes\n",
    "print(\"Original:\", len(businesses))\n",
    "print(\"Prepared:\", len(prepared_businesses))"
   ]
  },
  {
   "cell_type": "markdown",
   "metadata": {},
   "source": [
    "Great! We will reuse this function once we have retrieved the full dataset."
   ]
  },
  {
   "cell_type": "markdown",
   "metadata": {},
   "source": [
    "## 2. Add Pagination\n",
    "\n",
    "Now that you are able to extract information from one page of the response, let's figure out how to request as many pages as possible.\n",
    "\n",
    "### Determining the Total\n",
    "\n",
    "Depending on the number of total results for your query, you will either retrieve all of the results, or just the first 1000 (if there are more than 1000 total).\n",
    "\n",
    "We can find the total number of results using the `\"total\"` key:"
   ]
  },
  {
   "cell_type": "code",
   "execution_count": 13,
   "metadata": {},
   "outputs": [
    {
     "data": {
      "text/plain": [
       "15800"
      ]
     },
     "execution_count": 13,
     "metadata": {},
     "output_type": "execute_result"
    }
   ],
   "source": [
    "# Run this cell without changes\n",
    "response_json[\"total\"]"
   ]
  },
  {
   "cell_type": "markdown",
   "metadata": {},
   "source": [
    "(This is specific to the implementation of the Yelp API. Some APIs will just tell you that there are more pages, or will tell you the number of pages total, rather than the total number of results. If you're not sure, always check the documentation.)\n",
    "\n",
    "In the cell below, assign the variable `total` to either the value shown above (if it is less than 1000), or 1000."
   ]
  },
  {
   "cell_type": "code",
   "execution_count": 14,
   "metadata": {},
   "outputs": [],
   "source": [
    "# Replace None with appropriate code\n",
    "total = 1000"
   ]
  },
  {
   "cell_type": "markdown",
   "metadata": {},
   "source": [
    "### Calculating the Offsets\n",
    "\n",
    "The documentation states in the parameters section:\n",
    "\n",
    "> **Name**: `limit`, **Type:** int, **Description:** Optional. Number of business results to return. By default, it will return 20. Maximum is 50.\n",
    "\n",
    "> **Name**: `offset`, **Type:** int, **Description:** Optional. Offset the list of returned business results by this amount.\n",
    "\n",
    "So, to get the most results with the fewest API calls we want to set a limit of 50 every time. If, say, we wanted to get 210 total results, that would mean:\n",
    "\n",
    "1. Offset of `0` (first 50 records)\n",
    "2. Offset of `50` (second 50 records)\n",
    "3. Offset of `100` (third 50 records)\n",
    "4. Offset of `150` (fourth 50 records)\n",
    "5. Offset of `200` (final 10 records)\n",
    "\n",
    "In the cell below, create a function `get_offsets` that takes in a total and returns a list of offsets for that total. You can assume that there is a limit of 50 every time.\n",
    "\n",
    "*Hint: you can use `range` ([documentation here](https://docs.python.org/3.3/library/stdtypes.html?highlight=range#range)) to do this in one line of code. Just make the returned result is a list.*"
   ]
  },
  {
   "cell_type": "code",
   "execution_count": 17,
   "metadata": {},
   "outputs": [],
   "source": [
    "# Replace None with appropriate code\n",
    "def get_offsets(total):\n",
    "    \"\"\"\n",
    "    Get a list of offsets needed to get all pages\n",
    "    of data up until the total\n",
    "    \"\"\"\n",
    "    return list(range(0,total,50))"
   ]
  },
  {
   "cell_type": "markdown",
   "metadata": {},
   "source": [
    "Check that your function works below:"
   ]
  },
  {
   "cell_type": "code",
   "execution_count": 18,
   "metadata": {},
   "outputs": [],
   "source": [
    "# Run this cell without changes\n",
    "\n",
    "assert get_offsets(200) == [0, 50, 100, 150]\n",
    "assert get_offsets(210) == [0, 50, 100, 150, 200]"
   ]
  },
  {
   "cell_type": "markdown",
   "metadata": {},
   "source": [
    "### Putting It All Together\n",
    "\n",
    "Recall that the following variable has already been declared for you:"
   ]
  },
  {
   "cell_type": "code",
   "execution_count": 19,
   "metadata": {},
   "outputs": [
    {
     "data": {
      "text/plain": [
       "{'term': 'pizza', 'location': 'New+York+NY'}"
      ]
     },
     "execution_count": 19,
     "metadata": {},
     "output_type": "execute_result"
    }
   ],
   "source": [
    "# Run this cell without changes\n",
    "url_params"
   ]
  },
  {
   "cell_type": "markdown",
   "metadata": {},
   "source": [
    "We'll go ahead and also specify that the limit should be 50 every time:"
   ]
  },
  {
   "cell_type": "code",
   "execution_count": 20,
   "metadata": {},
   "outputs": [],
   "source": [
    "# Run this cell without changes\n",
    "url_params[\"limit\"] = 50"
   ]
  },
  {
   "cell_type": "markdown",
   "metadata": {},
   "source": [
    "In order to modify the offset, you'll need to add it to `url_params` with the key `\"offset\"` and whatever value is needed.\n",
    "\n",
    "In the cell below, write code that:\n",
    "\n",
    "* Creates an empty list for the full prepared dataset\n",
    "* Loops over all of the offsets from `get_offsets` and makes an API call each time with the specified offset\n",
    "* Calls `prepare_data` to get a cleaned version of the result of each API call\n",
    "* Extends the full prepared dataset list with each query's prepared dataset"
   ]
  },
  {
   "cell_type": "code",
   "execution_count": 23,
   "metadata": {},
   "outputs": [
    {
     "data": {
      "text/plain": [
       "776"
      ]
     },
     "execution_count": 23,
     "metadata": {},
     "output_type": "execute_result"
    }
   ],
   "source": [
    "# Replace None with appropriate code\n",
    "import time\n",
    "# Create an empty list for the full prepared dataset\n",
    "full_dataset = []\n",
    "\n",
    "for offset in get_offsets(total):\n",
    "    # Add or update the \"offset\" key-value pair in url_params\n",
    "    url_params[\"offset\"] = offset\n",
    "    \n",
    "    # Make the query and get the response\n",
    "    response = requests.get(url, headers=headers, params=url_params)\n",
    "    time.sleep(1)\n",
    "    # Get the response body in JSON format\n",
    "    response_json = response.json()\n",
    "    \n",
    "    # Get the list of businesses from the response_json\n",
    "    businesses = response_json['businesses']\n",
    "    \n",
    "    # Call the prepare_data function to get a list of processed data\n",
    "    prepared_businesses = prepare_data(businesses)\n",
    "    \n",
    "    # Extend full_dataset with this list (don't append, or you'll get\n",
    "    # a list of lists instead of a flat list)\n",
    "    full_dataset.extend(prepared_businesses)\n",
    "\n",
    "# Check the length of the full dataset. It will be up to `total`,\n",
    "# potentially less if there were missing values\n",
    "len(full_dataset)"
   ]
  },
  {
   "cell_type": "markdown",
   "metadata": {},
   "source": [
    "This code may take up to a few minutes to run.\n",
    "\n",
    "If you get an error trying to get the response body in JSON format, try adding `time.sleep(1)` right after the `requests.get` line, so your code will sleep for 1 second between each API call."
   ]
  },
  {
   "cell_type": "markdown",
   "metadata": {},
   "source": [
    "## 3. Perform Exploratory Analysis\n",
    "\n",
    "Take the businesses from the previous question and do an initial exploratory analysis. We have provided some plots for you to interpret:"
   ]
  },
  {
   "cell_type": "code",
   "execution_count": 24,
   "metadata": {},
   "outputs": [
    {
     "data": {
      "image/png": "[encoded data removed]",
      "text/plain": [
       "<Figure size 1152x360 with 3 Axes>"
      ]
     },
     "metadata": {
      "needs_background": "light"
     },
     "output_type": "display_data"
    }
   ],
   "source": [
    "# Run this cell without changes\n",
    "from collections import Counter\n",
    "import matplotlib.pyplot as plt\n",
    "%matplotlib inline\n",
    "\n",
    "fig, (ax1, ax2, ax3) = plt.subplots(ncols=3, figsize=(16, 5))\n",
    "\n",
    "# Plot distribution of number of reviews\n",
    "all_review_counts = [x[\"review_count\"] for x in full_dataset]\n",
    "ax1.hist(all_review_counts)\n",
    "ax1.set_title(\"Review Count Distribution\")\n",
    "ax1.set_xlabel(\"Number of Reviews\")\n",
    "ax1.set_ylabel(\"Number of Businesses\")\n",
    "\n",
    "# Plot rating distribution\n",
    "all_ratings = [x[\"rating\"] for x in full_dataset]\n",
    "rating_counter = Counter(all_ratings)\n",
    "rating_keys = sorted(rating_counter.keys())\n",
    "ax2.bar(rating_keys, [rating_counter[key] for key in rating_keys])\n",
    "ax2.set_title(\"Rating Distribution\")\n",
    "ax2.set_xlabel(\"Rating\")\n",
    "ax2.set_ylabel(\"Number of Businesses\")\n",
    "\n",
    "# Plot price distribution\n",
    "all_prices = [x[\"price\"].replace(\"$\", r\"\\$\") for x in full_dataset]\n",
    "price_counter = Counter(all_prices)\n",
    "price_keys = sorted(price_counter.keys())\n",
    "ax3.bar(price_keys, [price_counter[key] for key in price_keys])\n",
    "ax3.set_title(\"Price Distribution\")\n",
    "ax3.set_xlabel(\"Price Category\")\n",
    "ax3.set_ylabel(\"Number of Businesses\");"
   ]
  },
  {
   "cell_type": "markdown",
   "metadata": {},
   "source": [
    "Describe the distributions displayed above and interpret them in the context of your query. (Your answer may differ from the solution branch depending on your query.)"
   ]
  },
  {
   "cell_type": "code",
   "execution_count": null,
   "metadata": {},
   "outputs": [],
   "source": [
    "# Replace None with appropriate text\n",
    "\"\"\"\n",
    "1. In graph one we see that most of the businesses received atleast 500 reviews. Positive skewness.\n",
    "2. In graph 2 most businesses received a 5 on their rating resulting to average perfomance.\n",
    "3. In graph 3 most of the business were not expensive.\n",
    "\"\"\""
   ]
  },
  {
   "cell_type": "markdown",
   "metadata": {},
   "source": [
    "In the cell below, we also plot the rating distributions by price. In this setup, a price of one dollar sign is \"lower price\" and everything else is \"higher price\"."
   ]
  },
  {
   "cell_type": "code",
   "execution_count": 25,
   "metadata": {},
   "outputs": [
    {
     "data": {
      "image/png": "[encoded data removed]",
      "text/plain": [
       "<Figure size 432x288 with 1 Axes>"
      ]
     },
     "metadata": {
      "needs_background": "light"
     },
     "output_type": "display_data"
    }
   ],
   "source": [
    "# Run this cell without changes\n",
    "\n",
    "higher_price = []\n",
    "lower_price = []\n",
    "for row in full_dataset:\n",
    "    if row[\"price\"] == \"$\":\n",
    "        lower_price.append(row[\"rating\"])\n",
    "    else:\n",
    "        higher_price.append(row[\"rating\"])\n",
    "        \n",
    "fig, ax = plt.subplots()\n",
    "\n",
    "ax.hist([higher_price, lower_price], label=[\"higher price\", \"lower price\"], density=True)\n",
    "\n",
    "ax.legend();"
   ]
  },
  {
   "cell_type": "markdown",
   "metadata": {},
   "source": [
    "Is a higher price associated with a higher rating? (No need for any additional math/statistics, just interpret what you see in the plot.)"
   ]
  },
  {
   "cell_type": "code",
   "execution_count": null,
   "metadata": {},
   "outputs": [],
   "source": [
    "# Replace None with appropriate text\n",
    "\"\"\"\n",
    "no , high price is not associated with high rating\n",
    "\"\"\""
   ]
  },
  {
   "cell_type": "markdown",
   "metadata": {},
   "source": [
    "Finally, let's look at ratings vs. review counts:"
   ]
  },
  {
   "cell_type": "code",
   "execution_count": 26,
   "metadata": {},
   "outputs": [
    {
     "data": {
      "image/png": "[encoded data removed]",
      "text/plain": [
       "<Figure size 1152x360 with 1 Axes>"
      ]
     },
     "metadata": {
      "needs_background": "light"
     },
     "output_type": "display_data"
    }
   ],
   "source": [
    "# Run this cell without changes\n",
    "fig, ax = plt.subplots(figsize=(16,5))\n",
    "\n",
    "ax.scatter(all_review_counts, all_ratings, alpha=0.2)\n",
    "ax.set_xlabel(\"Number of Reviews\")\n",
    "ax.set_ylabel(\"Rating\")\n",
    "# \"zoom in\" to a subset of review counts\n",
    "ax.set_xlim(left=0, right=1000);"
   ]
  },
  {
   "cell_type": "markdown",
   "metadata": {},
   "source": [
    "Is a higher number of reviews associated with a higher rating?"
   ]
  },
  {
   "cell_type": "code",
   "execution_count": null,
   "metadata": {},
   "outputs": [],
   "source": [
    "# Replace None with appropriate text\n",
    "\"\"\"\n",
    "nop!\n",
    "high number of reviews doesnt mean high rating.\n",
    "\"\"\""
   ]
  },
  {
   "cell_type": "markdown",
   "metadata": {},
   "source": [
    "## 4. Create a Folium Map\n",
    "\n",
    "Make a map using Folium of the businesses you retrieved. Be sure to also add popups to the markers giving some basic information such as name, rating and price.\n",
    "\n",
    "You can center the map around the latitude and longitude of the first item in `full_dataset`."
   ]
  },
  {
   "cell_type": "code",
   "execution_count": 32,
   "metadata": {},
   "outputs": [
    {
     "data": {
      "text/html": [
       "<div style=\"width:100%;\"><div style=\"position:relative;width:100%;height:0;padding-bottom:60%;\"><span style=\"color:#565656\">Make this Notebook Trusted to load map: File -> Trust Notebook</span><iframe srcdoc=\"&lt;!DOCTYPE html&gt;\n",
       "&lt;html&gt;\n",
       "&lt;head&gt;\n",
       "    \n",
       "    &lt;meta http-equiv=&quot;content-type&quot; content=&quot;text/html; charset=UTF-8&quot; /&gt;\n",
       "    \n",
       "        &lt;script&gt;\n",
       "            L_NO_TOUCH = false;\n",
       "            L_DISABLE_3D = false;\n",
       "        &lt;/script&gt;\n",
       "    \n",
       "    &lt;style&gt;html, body {width: 100%;height: 100%;margin: 0;padding: 0;}&lt;/style&gt;\n",
       "    &lt;style&gt;#map {position:absolute;top:0;bottom:0;right:0;left:0;}&lt;/style&gt;\n",
       "    &lt;script src=&quot;https://cdn.jsdelivr.net/npm/leaflet@1.9.3/dist/leaflet.js&quot;&gt;&lt;/script&gt;\n",
       "    &lt;script src=&quot;https://code.jquery.com/jquery-1.12.4.min.js&quot;&gt;&lt;/script&gt;\n",
       "    &lt;script src=&quot;https://cdn.jsdelivr.net/npm/bootstrap@5.2.2/dist/js/bootstrap.bundle.min.js&quot;&gt;&lt;/script&gt;\n",
       "    &lt;script src=&quot;https://cdnjs.cloudflare.com/ajax/libs/Leaflet.awesome-markers/2.0.2/leaflet.awesome-markers.js&quot;&gt;&lt;/script&gt;\n",
       "    &lt;link rel=&quot;stylesheet&quot; href=&quot;https://cdn.jsdelivr.net/npm/leaflet@1.9.3/dist/leaflet.css&quot;/&gt;\n",
       "    &lt;link rel=&quot;stylesheet&quot; href=&quot;https://cdn.jsdelivr.net/npm/bootstrap@5.2.2/dist/css/bootstrap.min.css&quot;/&gt;\n",
       "    &lt;link rel=&quot;stylesheet&quot; href=&quot;https://netdna.bootstrapcdn.com/bootstrap/3.0.0/css/bootstrap.min.css&quot;/&gt;\n",
       "    &lt;link rel=&quot;stylesheet&quot; href=&quot;https://cdn.jsdelivr.net/npm/@fortawesome/fontawesome-free@6.2.0/css/all.min.css&quot;/&gt;\n",
       "    &lt;link rel=&quot;stylesheet&quot; href=&quot;https://cdnjs.cloudflare.com/ajax/libs/Leaflet.awesome-markers/2.0.2/leaflet.awesome-markers.css&quot;/&gt;\n",
       "    &lt;link rel=&quot;stylesheet&quot; href=&quot;https://cdn.jsdelivr.net/gh/python-visualization/folium/folium/templates/leaflet.awesome.rotate.min.css&quot;/&gt;\n",
       "    \n",
       "            &lt;meta name=&quot;viewport&quot; content=&quot;width=device-width,\n",
       "                initial-scale=1.0, maximum-scale=1.0, user-scalable=no&quot; /&gt;\n",
       "            &lt;style&gt;\n",
       "                #map_de2fdc090e6e8eb56f3da36898ddb3d0 {\n",
       "                    position: relative;\n",
       "                    width: 100.0%;\n",
       "                    height: 100.0%;\n",
       "                    left: 0.0%;\n",
       "                    top: 0.0%;\n",
       "                }\n",
       "                .leaflet-container { font-size: 1rem; }\n",
       "            &lt;/style&gt;\n",
       "        \n",
       "&lt;/head&gt;\n",
       "&lt;body&gt;\n",
       "    \n",
       "    \n",
       "            &lt;div class=&quot;folium-map&quot; id=&quot;map_de2fdc090e6e8eb56f3da36898ddb3d0&quot; &gt;&lt;/div&gt;\n",
       "        \n",
       "&lt;/body&gt;\n",
       "&lt;script&gt;\n",
       "    \n",
       "    \n",
       "            var map_de2fdc090e6e8eb56f3da36898ddb3d0 = L.map(\n",
       "                &quot;map_de2fdc090e6e8eb56f3da36898ddb3d0&quot;,\n",
       "                {\n",
       "                    center: [40.72308755605564, -73.99453001177575],\n",
       "                    crs: L.CRS.EPSG3857,\n",
       "                    zoom: 13,\n",
       "                    zoomControl: true,\n",
       "                    preferCanvas: false,\n",
       "                }\n",
       "            );\n",
       "\n",
       "            \n",
       "\n",
       "        \n",
       "    \n",
       "            var tile_layer_17d6a66a0f4f9d5275534af680aa572d = L.tileLayer(\n",
       "                &quot;https://{s}.tile.openstreetmap.org/{z}/{x}/{y}.png&quot;,\n",
       "                {&quot;attribution&quot;: &quot;Data by \\u0026copy; \\u003ca target=\\&quot;_blank\\&quot; href=\\&quot;http://openstreetmap.org\\&quot;\\u003eOpenStreetMap\\u003c/a\\u003e, under \\u003ca target=\\&quot;_blank\\&quot; href=\\&quot;http://www.openstreetmap.org/copyright\\&quot;\\u003eODbL\\u003c/a\\u003e.&quot;, &quot;detectRetina&quot;: false, &quot;maxNativeZoom&quot;: 18, &quot;maxZoom&quot;: 18, &quot;minZoom&quot;: 0, &quot;noWrap&quot;: false, &quot;opacity&quot;: 1, &quot;subdomains&quot;: &quot;abc&quot;, &quot;tms&quot;: false}\n",
       "            ).addTo(map_de2fdc090e6e8eb56f3da36898ddb3d0);\n",
       "        \n",
       "    \n",
       "            var marker_2e7b436aaf3b25ccb72cf81f5a54cbfc = L.marker(\n",
       "                [40.72308755605564, -73.99453001177575],\n",
       "                {}\n",
       "            ).addTo(map_de2fdc090e6e8eb56f3da36898ddb3d0);\n",
       "        \n",
       "    \n",
       "        var popup_dee98c03a87906287aa53ceed9c659b3 = L.popup({&quot;maxWidth&quot;: &quot;100%&quot;});\n",
       "\n",
       "        \n",
       "            \n",
       "                var html_d82c909b4a630e4fc9c0ae8ebd347362 = $(`&lt;div id=&quot;html_d82c909b4a630e4fc9c0ae8ebd347362&quot; style=&quot;width: 100.0%; height: 100.0%;&quot;&gt;Prince Street Pizza Price: $ Rating:4.5&lt;/div&gt;`)[0];\n",
       "                popup_dee98c03a87906287aa53ceed9c659b3.setContent(html_d82c909b4a630e4fc9c0ae8ebd347362);\n",
       "            \n",
       "        \n",
       "\n",
       "        marker_2e7b436aaf3b25ccb72cf81f5a54cbfc.bindPopup(popup_dee98c03a87906287aa53ceed9c659b3)\n",
       "        ;\n",
       "\n",
       "        \n",
       "    \n",
       "    \n",
       "            var marker_1a89963793cdaff114d5c7cc87172149 = L.marker(\n",
       "                [40.70274718768062, -73.99343490196397],\n",
       "                {}\n",
       "            ).addTo(map_de2fdc090e6e8eb56f3da36898ddb3d0);\n",
       "        \n",
       "    \n",
       "        var popup_48828860ea2ed67c7da8745e3177358e = L.popup({&quot;maxWidth&quot;: &quot;100%&quot;});\n",
       "\n",
       "        \n",
       "            \n",
       "                var html_269b8ea12dcb5ad7fd42fcc3d29b6392 = $(`&lt;div id=&quot;html_269b8ea12dcb5ad7fd42fcc3d29b6392&quot; style=&quot;width: 100.0%; height: 100.0%;&quot;&gt;Juliana&#x27;s Price: $$ Rating:4.5&lt;/div&gt;`)[0];\n",
       "                popup_48828860ea2ed67c7da8745e3177358e.setContent(html_269b8ea12dcb5ad7fd42fcc3d29b6392);\n",
       "            \n",
       "        \n",
       "\n",
       "        marker_1a89963793cdaff114d5c7cc87172149.bindPopup(popup_48828860ea2ed67c7da8745e3177358e)\n",
       "        ;\n",
       "\n",
       "        \n",
       "    \n",
       "    \n",
       "            var marker_bc6ce7a6dd9099daf801c99b7ea49d08 = L.marker(\n",
       "                [40.722766, -73.996233],\n",
       "                {}\n",
       "            ).addTo(map_de2fdc090e6e8eb56f3da36898ddb3d0);\n",
       "        \n",
       "    \n",
       "        var popup_bf65a5171047ca6dfc85b7da8035b918 = L.popup({&quot;maxWidth&quot;: &quot;100%&quot;});\n",
       "\n",
       "        \n",
       "            \n",
       "                var html_e77d55fff3e5802f6a9c2f624551691a = $(`&lt;div id=&quot;html_e77d55fff3e5802f6a9c2f624551691a&quot; style=&quot;width: 100.0%; height: 100.0%;&quot;&gt;Rubirosa Price: $$ Rating:4.5&lt;/div&gt;`)[0];\n",
       "                popup_bf65a5171047ca6dfc85b7da8035b918.setContent(html_e77d55fff3e5802f6a9c2f624551691a);\n",
       "            \n",
       "        \n",
       "\n",
       "        marker_bc6ce7a6dd9099daf801c99b7ea49d08.bindPopup(popup_bf65a5171047ca6dfc85b7da8035b918)\n",
       "        ;\n",
       "\n",
       "        \n",
       "    \n",
       "    \n",
       "            var marker_0cd7793ff75c834b2554e0bb37fba2bf = L.marker(\n",
       "                [40.71162, -73.95783],\n",
       "                {}\n",
       "            ).addTo(map_de2fdc090e6e8eb56f3da36898ddb3d0);\n",
       "        \n",
       "    \n",
       "        var popup_1d9eeb3ef946fc6662ec452d0b128ba0 = L.popup({&quot;maxWidth&quot;: &quot;100%&quot;});\n",
       "\n",
       "        \n",
       "            \n",
       "                var html_a2204763dedd70d9d81ceba43ed550d7 = $(`&lt;div id=&quot;html_a2204763dedd70d9d81ceba43ed550d7&quot; style=&quot;width: 100.0%; height: 100.0%;&quot;&gt;L&#x27;industrie Pizzeria Price: $ Rating:4.5&lt;/div&gt;`)[0];\n",
       "                popup_1d9eeb3ef946fc6662ec452d0b128ba0.setContent(html_a2204763dedd70d9d81ceba43ed550d7);\n",
       "            \n",
       "        \n",
       "\n",
       "        marker_0cd7793ff75c834b2554e0bb37fba2bf.bindPopup(popup_1d9eeb3ef946fc6662ec452d0b128ba0)\n",
       "        ;\n",
       "\n",
       "        \n",
       "    \n",
       "    \n",
       "            var marker_eed1b526d92a5ea028ad499fb0d76ca0 = L.marker(\n",
       "                [40.7215934960083, -73.9955956044561],\n",
       "                {}\n",
       "            ).addTo(map_de2fdc090e6e8eb56f3da36898ddb3d0);\n",
       "        \n",
       "    \n",
       "        var popup_18e46947d2c55453440aff0c4486f914 = L.popup({&quot;maxWidth&quot;: &quot;100%&quot;});\n",
       "\n",
       "        \n",
       "            \n",
       "                var html_81fe20784443741eff18fa15fe1d31da = $(`&lt;div id=&quot;html_81fe20784443741eff18fa15fe1d31da&quot; style=&quot;width: 100.0%; height: 100.0%;&quot;&gt;Lombardi&#x27;s Pizza Price: $$ Rating:4.0&lt;/div&gt;`)[0];\n",
       "                popup_18e46947d2c55453440aff0c4486f914.setContent(html_81fe20784443741eff18fa15fe1d31da);\n",
       "            \n",
       "        \n",
       "\n",
       "        marker_eed1b526d92a5ea028ad499fb0d76ca0.bindPopup(popup_18e46947d2c55453440aff0c4486f914)\n",
       "        ;\n",
       "\n",
       "        \n",
       "    \n",
       "    \n",
       "            var marker_a2de28d6e96c1fd0aa8da6e8c610c8a7 = L.marker(\n",
       "                [40.73060076, -74.00215997],\n",
       "                {}\n",
       "            ).addTo(map_de2fdc090e6e8eb56f3da36898ddb3d0);\n",
       "        \n",
       "    \n",
       "        var popup_227953bf51784ce45fdf6665a184766d = L.popup({&quot;maxWidth&quot;: &quot;100%&quot;});\n",
       "\n",
       "        \n",
       "            \n",
       "                var html_0d51e6dd3ee8cb53a8b7e1341ab92931 = $(`&lt;div id=&quot;html_0d51e6dd3ee8cb53a8b7e1341ab92931&quot; style=&quot;width: 100.0%; height: 100.0%;&quot;&gt;Joe&#x27;s Pizza Price: $ Rating:4.0&lt;/div&gt;`)[0];\n",
       "                popup_227953bf51784ce45fdf6665a184766d.setContent(html_0d51e6dd3ee8cb53a8b7e1341ab92931);\n",
       "            \n",
       "        \n",
       "\n",
       "        marker_a2de28d6e96c1fd0aa8da6e8c610c8a7.bindPopup(popup_227953bf51784ce45fdf6665a184766d)\n",
       "        ;\n",
       "\n",
       "        \n",
       "    \n",
       "    \n",
       "            var marker_31e736ab34e3d91e7331ff25d538992a = L.marker(\n",
       "                [40.73331, -73.98763],\n",
       "                {}\n",
       "            ).addTo(map_de2fdc090e6e8eb56f3da36898ddb3d0);\n",
       "        \n",
       "    \n",
       "        var popup_e9a8f37166b87d960daf5ef239bc76fc = L.popup({&quot;maxWidth&quot;: &quot;100%&quot;});\n",
       "\n",
       "        \n",
       "            \n",
       "                var html_e36ac4a7875c2fd21b3fa67222aac3bf = $(`&lt;div id=&quot;html_e36ac4a7875c2fd21b3fa67222aac3bf&quot; style=&quot;width: 100.0%; height: 100.0%;&quot;&gt;Joe&#x27;s Pizza Price: $ Rating:4.0&lt;/div&gt;`)[0];\n",
       "                popup_e9a8f37166b87d960daf5ef239bc76fc.setContent(html_e36ac4a7875c2fd21b3fa67222aac3bf);\n",
       "            \n",
       "        \n",
       "\n",
       "        marker_31e736ab34e3d91e7331ff25d538992a.bindPopup(popup_e9a8f37166b87d960daf5ef239bc76fc)\n",
       "        ;\n",
       "\n",
       "        \n",
       "    \n",
       "    \n",
       "            var marker_c83e9c84c484dc3e730dac488f8730be = L.marker(\n",
       "                [40.71534, -73.9914],\n",
       "                {}\n",
       "            ).addTo(map_de2fdc090e6e8eb56f3da36898ddb3d0);\n",
       "        \n",
       "    \n",
       "        var popup_5e3888aa8e22b7a95cdd442f8f53d362 = L.popup({&quot;maxWidth&quot;: &quot;100%&quot;});\n",
       "\n",
       "        \n",
       "            \n",
       "                var html_0adfa8554df9fa2dc2d5e1a8d2d8a2f2 = $(`&lt;div id=&quot;html_0adfa8554df9fa2dc2d5e1a8d2d8a2f2&quot; style=&quot;width: 100.0%; height: 100.0%;&quot;&gt;Scarr&#x27;s Pizza Price: $ Rating:4.0&lt;/div&gt;`)[0];\n",
       "                popup_5e3888aa8e22b7a95cdd442f8f53d362.setContent(html_0adfa8554df9fa2dc2d5e1a8d2d8a2f2);\n",
       "            \n",
       "        \n",
       "\n",
       "        marker_c83e9c84c484dc3e730dac488f8730be.bindPopup(popup_5e3888aa8e22b7a95cdd442f8f53d362)\n",
       "        ;\n",
       "\n",
       "        \n",
       "    \n",
       "    \n",
       "            var marker_7b25afffc276ee0be0ae0fb747eb16dc = L.marker(\n",
       "                [40.73158, -74.00332],\n",
       "                {}\n",
       "            ).addTo(map_de2fdc090e6e8eb56f3da36898ddb3d0);\n",
       "        \n",
       "    \n",
       "        var popup_2fcb6dc2b71fa051203112d7ede91178 = L.popup({&quot;maxWidth&quot;: &quot;100%&quot;});\n",
       "\n",
       "        \n",
       "            \n",
       "                var html_6a353ed9cb74c8ec05ec6f449b4f71fb = $(`&lt;div id=&quot;html_6a353ed9cb74c8ec05ec6f449b4f71fb&quot; style=&quot;width: 100.0%; height: 100.0%;&quot;&gt;John&#x27;s of Bleecker Street Price: $$ Rating:4.0&lt;/div&gt;`)[0];\n",
       "                popup_2fcb6dc2b71fa051203112d7ede91178.setContent(html_6a353ed9cb74c8ec05ec6f449b4f71fb);\n",
       "            \n",
       "        \n",
       "\n",
       "        marker_7b25afffc276ee0be0ae0fb747eb16dc.bindPopup(popup_2fcb6dc2b71fa051203112d7ede91178)\n",
       "        ;\n",
       "\n",
       "        \n",
       "    \n",
       "    \n",
       "            var marker_38e937b23df7c2e138a03ae34d518044 = L.marker(\n",
       "                [40.733798036104304, -73.99977392649927],\n",
       "                {}\n",
       "            ).addTo(map_de2fdc090e6e8eb56f3da36898ddb3d0);\n",
       "        \n",
       "    \n",
       "        var popup_2e6b48a16c248331056804affd9351f5 = L.popup({&quot;maxWidth&quot;: &quot;100%&quot;});\n",
       "\n",
       "        \n",
       "            \n",
       "                var html_5c717c5a1381298590c5dbac73f52957 = $(`&lt;div id=&quot;html_5c717c5a1381298590c5dbac73f52957&quot; style=&quot;width: 100.0%; height: 100.0%;&quot;&gt;Olio e Più Price: $$ Rating:4.5&lt;/div&gt;`)[0];\n",
       "                popup_2e6b48a16c248331056804affd9351f5.setContent(html_5c717c5a1381298590c5dbac73f52957);\n",
       "            \n",
       "        \n",
       "\n",
       "        marker_38e937b23df7c2e138a03ae34d518044.bindPopup(popup_2e6b48a16c248331056804affd9351f5)\n",
       "        ;\n",
       "\n",
       "        \n",
       "    \n",
       "&lt;/script&gt;\n",
       "&lt;/html&gt;\" style=\"position:absolute;width:100%;height:100%;left:0;top:0;border:none !important;\" allowfullscreen webkitallowfullscreen mozallowfullscreen></iframe></div></div>"
      ],
      "text/plain": [
       "<folium.folium.Map at 0x1e00b0c50d0>"
      ]
     },
     "execution_count": 32,
     "metadata": {},
     "output_type": "execute_result"
    }
   ],
   "source": [
    "# Replace None with appropriate code\n",
    "\n",
    "# Import the library\n",
    "import folium\n",
    "\n",
    "# Set up center latitude and longitude\n",
    "center_lat = full_dataset[0]['latitude']\n",
    "center_long = full_dataset[0]['longitude']\n",
    "\n",
    "# Initialize map with center lat and long\n",
    "yelp_map = folium.Map([center_lat,center_long], zoom_start=13)\n",
    "\n",
    "# Adjust this limit to see more or fewer businesses\n",
    "limit=10\n",
    "\n",
    "for business in full_dataset[:limit]:\n",
    "    # Extract information about business\n",
    "    lat = business['latitude']\n",
    "    long = business['longitude']\n",
    "    name = business['name']\n",
    "    rating = business['rating']\n",
    "    price = business['price']\n",
    "    details = \"{}\\nPrice: {} Rating:{}\".format(name,price,rating)\n",
    "    \n",
    "    # Create popup with relevant details\n",
    "\n",
    "    popup = folium.Popup(details)\n",
    "    \n",
    "    # Create marker with relevant lat/long and popup\n",
    "    marker = folium.Marker(location=[lat,long], popup=popup)\n",
    "    \n",
    "    marker.add_to(yelp_map)\n",
    "    \n",
    "yelp_map"
   ]
  },
  {
   "cell_type": "markdown",
   "metadata": {},
   "source": [
    "## Summary\n",
    "\n",
    "Nice work! In this lab, you've made multiple API calls to Yelp in order to paginate through a results set, performing some basic exploratory analysis and then creating a nice interactive map to display the results using Folium! Well done!"
   ]
  }
 ],
 "metadata": {
  "kernelspec": {
   "display_name": "Python 3 (ipykernel)",
   "language": "python",
   "name": "python3"
  },
  "language_info": {
   "codemirror_mode": {
    "name": "ipython",
    "version": 3
   },
   "file_extension": ".py",
   "mimetype": "text/x-python",
   "name": "python",
   "nbconvert_exporter": "python",
   "pygments_lexer": "ipython3",
   "version": "3.9.6"
  },
  "toc": {
   "base_numbering": 1,
   "nav_menu": {},
   "number_sections": true,
   "sideBar": true,
   "skip_h1_title": false,
   "title_cell": "Table of Contents",
   "title_sidebar": "Contents",
   "toc_cell": false,
   "toc_position": {},
   "toc_section_display": true,
   "toc_window_display": false
  }
 },
 "nbformat": 4,
 "nbformat_minor": 2
}
